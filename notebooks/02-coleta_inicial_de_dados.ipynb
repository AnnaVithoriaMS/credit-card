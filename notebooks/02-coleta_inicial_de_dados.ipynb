{
 "cells": [
  {
   "cell_type": "code",
   "execution_count": 7,
   "metadata": {},
   "outputs": [],
   "source": [
    "import urllib.request\n",
    "import zipfile\n",
    "import os\n",
    "\n",
    "# URL do arquivo ZIP a ser baixado\n",
    "url_zip_file='https://archive.ics.uci.edu/static/public/350/default+of+credit+card+clients.zip'\n",
    "\n",
    "# Baixa o arquivo\n",
    "urllib.request.urlretrieve(url_zip_file, 'arquivo.zip')\n",
    "\n",
    "# Define o caminho do diretório de destino para o arquivo descompactado\n",
    "pasta_destino = os.path.join(os.path.dirname(os.getcwd()), 'data', 'raw')\n",
    "\n",
    "# Abre e descompacta o arquivo ZIP para o diretório de destino\n",
    "zip_file = zipfile.ZipFile('arquivo.zip')\n",
    "zip_file.extractall(pasta_destino)\n",
    "\n",
    "zip_file.close()\n",
    "\n",
    "# Remove o arquivo ZIP baixado\n",
    "os.remove('arquivo.zip')\n"
   ]
  }
 ],
 "metadata": {
  "kernelspec": {
   "display_name": "Python 3",
   "language": "python",
   "name": "python3"
  },
  "language_info": {
   "codemirror_mode": {
    "name": "ipython",
    "version": 3
   },
   "file_extension": ".py",
   "mimetype": "text/x-python",
   "name": "python",
   "nbconvert_exporter": "python",
   "pygments_lexer": "ipython3",
   "version": "3.10.7"
  },
  "orig_nbformat": 4
 },
 "nbformat": 4,
 "nbformat_minor": 2
}
